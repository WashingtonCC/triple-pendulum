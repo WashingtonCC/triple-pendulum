{
 "cells": [
  {
   "cell_type": "code",
   "execution_count": 2,
   "metadata": {
    "tags": []
   },
   "outputs": [],
   "source": [
    "import sympy as sp"
   ]
  },
  {
   "cell_type": "code",
   "execution_count": 3,
   "metadata": {
    "tags": []
   },
   "outputs": [],
   "source": [
    "t, R1, R2, R3, m1, m2, m3, g = sp.symbols(\"t R_1 R_2 R_3 m_1 m_2 m_3 g\")"
   ]
  },
  {
   "cell_type": "code",
   "execution_count": 4,
   "metadata": {
    "tags": []
   },
   "outputs": [],
   "source": [
    "dt = 0.01"
   ]
  },
  {
   "cell_type": "code",
   "execution_count": 5,
   "metadata": {
    "tags": []
   },
   "outputs": [],
   "source": [
    "theta1 = sp.symbols(r\"theta_1\", cls=sp.Function)\n",
    "theta2 = sp.symbols(r\"theta_2\", cls=sp.Function)\n",
    "theta3 = sp.symbols(r\"theta_3\", cls=sp.Function)"
   ]
  },
  {
   "cell_type": "code",
   "execution_count": 6,
   "metadata": {
    "tags": []
   },
   "outputs": [],
   "source": [
    "theta1 = theta1(t)\n",
    "theta2 = theta2(t)\n",
    "theta3 = theta3(t)"
   ]
  },
  {
   "cell_type": "code",
   "execution_count": 7,
   "metadata": {
    "tags": []
   },
   "outputs": [],
   "source": [
    "theta1dt = sp.diff(theta1, t)\n",
    "theta2dt = sp.diff(theta2, t)\n",
    "theta3dt = sp.diff(theta3, t)"
   ]
  },
  {
   "cell_type": "code",
   "execution_count": 8,
   "metadata": {
    "tags": []
   },
   "outputs": [],
   "source": [
    "theta1ddt = sp.diff(theta1dt, t)\n",
    "theta2ddt = sp.diff(theta2dt, t)\n",
    "theta3ddt = sp.diff(theta3dt, t)"
   ]
  },
  {
   "cell_type": "code",
   "execution_count": 9,
   "metadata": {
    "tags": []
   },
   "outputs": [],
   "source": [
    "x1 = R1*sp.sin(theta1)\n",
    "x2 = R2*sp.sin(theta2) + x1\n",
    "x3 = R3*sp.sin(theta3) + x2"
   ]
  },
  {
   "cell_type": "code",
   "execution_count": 10,
   "metadata": {
    "tags": []
   },
   "outputs": [],
   "source": [
    "y1 = -R1*sp.cos(theta1)\n",
    "y2 = -R2*sp.cos(theta2) + y1\n",
    "y3 = -R3*sp.cos(theta3) + y2"
   ]
  },
  {
   "cell_type": "code",
   "execution_count": 11,
   "metadata": {
    "tags": []
   },
   "outputs": [],
   "source": [
    "T1 = sp.Rational(1,2)*m1*(sp.diff(x1, t)**2 + sp.diff(y1, t)**2)\n",
    "T2 = sp.Rational(1,2)*m2*(sp.diff(x2, t)**2 + sp.diff(y2, t)**2)\n",
    "T3 = sp.Rational(1,2)*m3*(sp.diff(x3, t)**2 + sp.diff(y3, t)**2)"
   ]
  },
  {
   "cell_type": "code",
   "execution_count": 12,
   "metadata": {
    "tags": []
   },
   "outputs": [],
   "source": [
    "U = m1*g*y1 + m2*g*y2 + m3*g*y3"
   ]
  },
  {
   "cell_type": "code",
   "execution_count": 13,
   "metadata": {
    "tags": []
   },
   "outputs": [],
   "source": [
    "L = T1 + T2 + T3 - U"
   ]
  },
  {
   "cell_type": "code",
   "execution_count": 14,
   "metadata": {
    "tags": []
   },
   "outputs": [],
   "source": [
    "LE1 = sp.diff(L, theta1) - sp.diff(sp.diff(L, theta1dt), t)\n",
    "LE2 = sp.diff(L, theta2) - sp.diff(sp.diff(L, theta2dt), t)\n",
    "LE3 = sp.diff(L, theta3) - sp.diff(sp.diff(L, theta3dt), t)"
   ]
  },
  {
   "cell_type": "code",
   "execution_count": 29,
   "metadata": {},
   "outputs": [],
   "source": [
    "sol1 = sp.solve(LE1, theta1ddt)"
   ]
  },
  {
   "cell_type": "code",
   "execution_count": 40,
   "metadata": {
    "tags": []
   },
   "outputs": [
    {
     "data": {
      "text/latex": [
       "$\\displaystyle - \\frac{R_{2} m_{2} \\sin{\\left(\\theta_{1}{\\left(t \\right)} - \\theta_{2}{\\left(t \\right)} \\right)} \\left(\\frac{d}{d t} \\theta_{2}{\\left(t \\right)}\\right)^{2} + R_{2} m_{2} \\cos{\\left(\\theta_{1}{\\left(t \\right)} - \\theta_{2}{\\left(t \\right)} \\right)} \\frac{d^{2}}{d t^{2}} \\theta_{2}{\\left(t \\right)} + R_{2} m_{3} \\sin{\\left(\\theta_{1}{\\left(t \\right)} - \\theta_{2}{\\left(t \\right)} \\right)} \\left(\\frac{d}{d t} \\theta_{2}{\\left(t \\right)}\\right)^{2} + R_{2} m_{3} \\cos{\\left(\\theta_{1}{\\left(t \\right)} - \\theta_{2}{\\left(t \\right)} \\right)} \\frac{d^{2}}{d t^{2}} \\theta_{2}{\\left(t \\right)} + R_{3} m_{3} \\sin{\\left(\\theta_{1}{\\left(t \\right)} - \\theta_{3}{\\left(t \\right)} \\right)} \\left(\\frac{d}{d t} \\theta_{3}{\\left(t \\right)}\\right)^{2} + R_{3} m_{3} \\cos{\\left(\\theta_{1}{\\left(t \\right)} - \\theta_{3}{\\left(t \\right)} \\right)} \\frac{d^{2}}{d t^{2}} \\theta_{3}{\\left(t \\right)} + g m_{1} \\sin{\\left(\\theta_{1}{\\left(t \\right)} \\right)} + g m_{2} \\sin{\\left(\\theta_{1}{\\left(t \\right)} \\right)} + g m_{3} \\sin{\\left(\\theta_{1}{\\left(t \\right)} \\right)}}{R_{1} \\left(m_{1} + m_{2} + m_{3}\\right)}$"
      ],
      "text/plain": [
       "-(R_2*m_2*sin(theta_1(t) - theta_2(t))*Derivative(theta_2(t), t)**2 + R_2*m_2*cos(theta_1(t) - theta_2(t))*Derivative(theta_2(t), (t, 2)) + R_2*m_3*sin(theta_1(t) - theta_2(t))*Derivative(theta_2(t), t)**2 + R_2*m_3*cos(theta_1(t) - theta_2(t))*Derivative(theta_2(t), (t, 2)) + R_3*m_3*sin(theta_1(t) - theta_3(t))*Derivative(theta_3(t), t)**2 + R_3*m_3*cos(theta_1(t) - theta_3(t))*Derivative(theta_3(t), (t, 2)) + g*m_1*sin(theta_1(t)) + g*m_2*sin(theta_1(t)) + g*m_3*sin(theta_1(t)))/(R_1*(m_1 + m_2 + m_3))"
      ]
     },
     "execution_count": 40,
     "metadata": {},
     "output_type": "execute_result"
    }
   ],
   "source": [
    "sol1[0]"
   ]
  },
  {
   "cell_type": "code",
   "execution_count": 31,
   "metadata": {
    "tags": []
   },
   "outputs": [],
   "source": [
    "sol2 = sp.solve(LE2, theta2ddt)"
   ]
  },
  {
   "cell_type": "code",
   "execution_count": 41,
   "metadata": {
    "tags": []
   },
   "outputs": [
    {
     "data": {
      "text/latex": [
       "$\\displaystyle \\frac{R_{1} m_{2} \\sin{\\left(\\theta_{1}{\\left(t \\right)} - \\theta_{2}{\\left(t \\right)} \\right)} \\left(\\frac{d}{d t} \\theta_{1}{\\left(t \\right)}\\right)^{2} - R_{1} m_{2} \\cos{\\left(\\theta_{1}{\\left(t \\right)} - \\theta_{2}{\\left(t \\right)} \\right)} \\frac{d^{2}}{d t^{2}} \\theta_{1}{\\left(t \\right)} + R_{1} m_{3} \\sin{\\left(\\theta_{1}{\\left(t \\right)} - \\theta_{2}{\\left(t \\right)} \\right)} \\left(\\frac{d}{d t} \\theta_{1}{\\left(t \\right)}\\right)^{2} - R_{1} m_{3} \\cos{\\left(\\theta_{1}{\\left(t \\right)} - \\theta_{2}{\\left(t \\right)} \\right)} \\frac{d^{2}}{d t^{2}} \\theta_{1}{\\left(t \\right)} - R_{3} m_{3} \\sin{\\left(\\theta_{2}{\\left(t \\right)} - \\theta_{3}{\\left(t \\right)} \\right)} \\left(\\frac{d}{d t} \\theta_{3}{\\left(t \\right)}\\right)^{2} - R_{3} m_{3} \\cos{\\left(\\theta_{2}{\\left(t \\right)} - \\theta_{3}{\\left(t \\right)} \\right)} \\frac{d^{2}}{d t^{2}} \\theta_{3}{\\left(t \\right)} - g m_{2} \\sin{\\left(\\theta_{2}{\\left(t \\right)} \\right)} - g m_{3} \\sin{\\left(\\theta_{2}{\\left(t \\right)} \\right)}}{R_{2} \\left(m_{2} + m_{3}\\right)}$"
      ],
      "text/plain": [
       "(R_1*m_2*sin(theta_1(t) - theta_2(t))*Derivative(theta_1(t), t)**2 - R_1*m_2*cos(theta_1(t) - theta_2(t))*Derivative(theta_1(t), (t, 2)) + R_1*m_3*sin(theta_1(t) - theta_2(t))*Derivative(theta_1(t), t)**2 - R_1*m_3*cos(theta_1(t) - theta_2(t))*Derivative(theta_1(t), (t, 2)) - R_3*m_3*sin(theta_2(t) - theta_3(t))*Derivative(theta_3(t), t)**2 - R_3*m_3*cos(theta_2(t) - theta_3(t))*Derivative(theta_3(t), (t, 2)) - g*m_2*sin(theta_2(t)) - g*m_3*sin(theta_2(t)))/(R_2*(m_2 + m_3))"
      ]
     },
     "execution_count": 41,
     "metadata": {},
     "output_type": "execute_result"
    }
   ],
   "source": [
    "sol2[0]"
   ]
  },
  {
   "cell_type": "code",
   "execution_count": 33,
   "metadata": {
    "tags": []
   },
   "outputs": [],
   "source": [
    "sol3 = sp.solve(LE3, theta3ddt)"
   ]
  },
  {
   "cell_type": "code",
   "execution_count": 42,
   "metadata": {
    "tags": []
   },
   "outputs": [
    {
     "data": {
      "text/latex": [
       "$\\displaystyle \\frac{R_{1} \\sin{\\left(\\theta_{1}{\\left(t \\right)} - \\theta_{3}{\\left(t \\right)} \\right)} \\left(\\frac{d}{d t} \\theta_{1}{\\left(t \\right)}\\right)^{2} - R_{1} \\cos{\\left(\\theta_{1}{\\left(t \\right)} - \\theta_{3}{\\left(t \\right)} \\right)} \\frac{d^{2}}{d t^{2}} \\theta_{1}{\\left(t \\right)} + R_{2} \\sin{\\left(\\theta_{2}{\\left(t \\right)} - \\theta_{3}{\\left(t \\right)} \\right)} \\left(\\frac{d}{d t} \\theta_{2}{\\left(t \\right)}\\right)^{2} - R_{2} \\cos{\\left(\\theta_{2}{\\left(t \\right)} - \\theta_{3}{\\left(t \\right)} \\right)} \\frac{d^{2}}{d t^{2}} \\theta_{2}{\\left(t \\right)} - g \\sin{\\left(\\theta_{3}{\\left(t \\right)} \\right)}}{R_{3}}$"
      ],
      "text/plain": [
       "(R_1*sin(theta_1(t) - theta_3(t))*Derivative(theta_1(t), t)**2 - R_1*cos(theta_1(t) - theta_3(t))*Derivative(theta_1(t), (t, 2)) + R_2*sin(theta_2(t) - theta_3(t))*Derivative(theta_2(t), t)**2 - R_2*cos(theta_2(t) - theta_3(t))*Derivative(theta_2(t), (t, 2)) - g*sin(theta_3(t)))/R_3"
      ]
     },
     "execution_count": 42,
     "metadata": {},
     "output_type": "execute_result"
    }
   ],
   "source": [
    "sol3[0]"
   ]
  },
  {
   "cell_type": "code",
   "execution_count": null,
   "metadata": {},
   "outputs": [],
   "source": []
  }
 ],
 "metadata": {
  "kernelspec": {
   "display_name": "Python 3 (ipykernel)",
   "language": "python",
   "name": "python3"
  },
  "language_info": {
   "codemirror_mode": {
    "name": "ipython",
    "version": 3
   },
   "file_extension": ".py",
   "mimetype": "text/x-python",
   "name": "python",
   "nbconvert_exporter": "python",
   "pygments_lexer": "ipython3",
   "version": "3.10.9"
  },
  "vscode": {
   "interpreter": {
    "hash": "e7370f93d1d0cde622a1f8e1c04877d8463912d04d973331ad4851f04de6915a"
   }
  }
 },
 "nbformat": 4,
 "nbformat_minor": 4
}
